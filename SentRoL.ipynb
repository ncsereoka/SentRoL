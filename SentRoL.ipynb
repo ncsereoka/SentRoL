{
 "cells": [
  {
   "cell_type": "markdown",
   "id": "9d0962a2-9906-4321-814c-da8138f1014f",
   "metadata": {},
   "source": [
    "# Load data"
   ]
  },
  {
   "cell_type": "code",
   "execution_count": 1,
   "id": "03dd8416-c600-4d4b-b2cb-a9f3bc13f833",
   "metadata": {},
   "outputs": [],
   "source": [
    "from utils import jsonfile\n",
    "from utils import datautil\n",
    "    \n",
    "data = jsonfile.read('data_splitted/laroseda_train.json')['reviews']\n",
    "train_data, validation_data = datautil.split(data, test_split=2000)\n",
    "test_data = jsonfile.read('data_splitted/laroseda_test.json')['reviews']"
   ]
  },
  {
   "cell_type": "code",
   "execution_count": 2,
   "id": "008f6c1b-6bc5-465e-a54a-6e2b29f32eed",
   "metadata": {},
   "outputs": [
    {
     "name": "stdout",
     "output_type": "stream",
     "text": [
      "Reviews for train     : 10000\n",
      "Reviews for validation: 2000\n",
      "Reviews for test      : 3000\n"
     ]
    }
   ],
   "source": [
    "print(f'Reviews for train     : {len(train_data)}')\n",
    "print(f'Reviews for validation: {len(validation_data)}')\n",
    "print(f'Reviews for test      : {len(test_data)}')"
   ]
  },
  {
   "cell_type": "markdown",
   "id": "80da511f-46a2-47ff-92f0-8f7fd76f18cc",
   "metadata": {},
   "source": [
    "# Data exploration"
   ]
  },
  {
   "cell_type": "code",
   "execution_count": 3,
   "id": "e648926e-975e-4236-ae14-c6bcd3317417",
   "metadata": {},
   "outputs": [
    {
     "name": "stdout",
     "output_type": "stream",
     "text": [
      "{'index': '9336', 'title': 'Nu merita nici jumatate din pret!!', 'content': 'se misca execrabil!!! se blocheaza des!!! nici daca ar fi gratuita nu as mai luat-o!! bateria tine ok, dar la ce fost daca se blocheaza cand deschizi 2 aplicatii, doar atat?', 'starRating': '1'}\n"
     ]
    }
   ],
   "source": [
    "print(train_data[0])"
   ]
  },
  {
   "cell_type": "code",
   "execution_count": 4,
   "id": "dd44cb59-49a6-423f-b69a-05d496a5f61f",
   "metadata": {},
   "outputs": [
    {
     "data": {
      "image/png": "[encoded data removed]",
      "text/plain": [
       "<Figure size 432x288 with 1 Axes>"
      ]
     },
     "metadata": {
      "needs_background": "light"
     },
     "output_type": "display_data"
    }
   ],
   "source": [
    "ratings = [0 for i in range(5)] \n",
    "for entry in train_data:\n",
    "    ratings[ord(entry['starRating']) - ord('1')] += 1\n",
    "    \n",
    "import matplotlib.pyplot as plt\n",
    "\n",
    "x = ['1', '2', '3', '4', '5']\n",
    "plt.title('Number of reviews by star rating')\n",
    "plt.bar(x, ratings)\n",
    "plt.show()"
   ]
  },
  {
   "cell_type": "markdown",
   "id": "261c2850-04c2-4fe1-8eeb-c930951db116",
   "metadata": {
    "tags": []
   },
   "source": [
    "# Cleanup"
   ]
  },
  {
   "cell_type": "code",
   "execution_count": 5,
   "id": "3fd9f1f0-15a3-4196-a620-46a140e05d86",
   "metadata": {},
   "outputs": [],
   "source": [
    "x_train, y_train = datautil.clean(train_data)\n",
    "x_val, y_val = datautil.clean(validation_data)\n",
    "x_test, y_test = datautil.clean(test_data)"
   ]
  },
  {
   "cell_type": "markdown",
   "id": "5af6cb37-cf7e-42c0-befd-4868a336f69d",
   "metadata": {},
   "source": [
    "We'll assign the '0' label for negative reviews (with 1- or 2-star ratings) and '1' for the positive reviews (with 4- or 5-star ratings).\n",
    "\n",
    "We'll merge the title and the content to a common 'text' field which is cleaned."
   ]
  },
  {
   "cell_type": "markdown",
   "id": "c60aa62b-9a14-4518-9f40-541dc31f5306",
   "metadata": {},
   "source": [
    "# Post-cleanup"
   ]
  },
  {
   "cell_type": "code",
   "execution_count": 6,
   "id": "c1e59fb1-f7ae-445a-8077-de01be4c4e1b",
   "metadata": {},
   "outputs": [
    {
     "name": "stdout",
     "output_type": "stream",
     "text": [
      "nu merita nici jumatate din pret se misca execrabil se blocheaza des nici daca ar fi gratuita nu as mai luato bateria tine ok dar la ce fost daca se blocheaza cand deschizi 2 aplicatii doar atat\n",
      "0\n"
     ]
    }
   ],
   "source": [
    "print(x_train[0])\n",
    "print(y_train[0])"
   ]
  },
  {
   "cell_type": "markdown",
   "id": "14eb4006-c746-4fac-b257-392b091d020d",
   "metadata": {},
   "source": [
    "# Embedding layer approach - dimension: 100"
   ]
  },
  {
   "cell_type": "code",
   "execution_count": 7,
   "id": "53c71d23-b8b2-407c-8129-a1f6689c51ee",
   "metadata": {},
   "outputs": [
    {
     "name": "stderr",
     "output_type": "stream",
     "text": [
      "2021-12-01 14:19:46.114666: I tensorflow/stream_executor/platform/default/dso_loader.cc:49] Successfully opened dynamic library libcudart.so.10.1\n"
     ]
    },
    {
     "name": "stdout",
     "output_type": "stream",
     "text": [
      "Found 21090 unique tokens.\n",
      "Shape of data tensor: (12000, 100)\n",
      "Shape of label tensor: (12000,)\n"
     ]
    },
    {
     "name": "stderr",
     "output_type": "stream",
     "text": [
      "2021-12-01 14:19:47.377020: I tensorflow/compiler/jit/xla_cpu_device.cc:41] Not creating XLA devices, tf_xla_enable_xla_devices not set\n",
      "2021-12-01 14:19:47.377685: I tensorflow/stream_executor/platform/default/dso_loader.cc:49] Successfully opened dynamic library libcuda.so.1\n",
      "2021-12-01 14:19:47.411670: I tensorflow/stream_executor/cuda/cuda_gpu_executor.cc:941] successful NUMA node read from SysFS had negative value (-1), but there must be at least one NUMA node, so returning NUMA node zero\n",
      "2021-12-01 14:19:47.411829: I tensorflow/core/common_runtime/gpu/gpu_device.cc:1720] Found device 0 with properties: \n",
      "pciBusID: 0000:01:00.0 name: NVIDIA GeForce RTX 2060 computeCapability: 7.5\n",
      "coreClock: 1.2GHz coreCount: 30 deviceMemorySize: 5.79GiB deviceMemoryBandwidth: 312.97GiB/s\n",
      "2021-12-01 14:19:47.411848: I tensorflow/stream_executor/platform/default/dso_loader.cc:49] Successfully opened dynamic library libcudart.so.10.1\n",
      "2021-12-01 14:19:47.413020: I tensorflow/stream_executor/platform/default/dso_loader.cc:49] Successfully opened dynamic library libcublas.so.10\n",
      "2021-12-01 14:19:47.413052: I tensorflow/stream_executor/platform/default/dso_loader.cc:49] Successfully opened dynamic library libcublasLt.so.10\n",
      "2021-12-01 14:19:47.414203: I tensorflow/stream_executor/platform/default/dso_loader.cc:49] Successfully opened dynamic library libcufft.so.10\n",
      "2021-12-01 14:19:47.414382: I tensorflow/stream_executor/platform/default/dso_loader.cc:49] Successfully opened dynamic library libcurand.so.10\n",
      "2021-12-01 14:19:47.415683: I tensorflow/stream_executor/platform/default/dso_loader.cc:49] Successfully opened dynamic library libcusolver.so.10\n",
      "2021-12-01 14:19:47.416350: I tensorflow/stream_executor/platform/default/dso_loader.cc:49] Successfully opened dynamic library libcusparse.so.10\n",
      "2021-12-01 14:19:47.419162: I tensorflow/stream_executor/platform/default/dso_loader.cc:49] Successfully opened dynamic library libcudnn.so.7\n",
      "2021-12-01 14:19:47.419253: I tensorflow/stream_executor/cuda/cuda_gpu_executor.cc:941] successful NUMA node read from SysFS had negative value (-1), but there must be at least one NUMA node, so returning NUMA node zero\n",
      "2021-12-01 14:19:47.419439: I tensorflow/stream_executor/cuda/cuda_gpu_executor.cc:941] successful NUMA node read from SysFS had negative value (-1), but there must be at least one NUMA node, so returning NUMA node zero\n",
      "2021-12-01 14:19:47.419558: I tensorflow/core/common_runtime/gpu/gpu_device.cc:1862] Adding visible gpu devices: 0\n",
      "2021-12-01 14:19:47.419904: I tensorflow/core/platform/cpu_feature_guard.cc:142] This TensorFlow binary is optimized with oneAPI Deep Neural Network Library (oneDNN) to use the following CPU instructions in performance-critical operations:  SSE4.1 SSE4.2 AVX AVX2 FMA\n",
      "To enable them in other operations, rebuild TensorFlow with the appropriate compiler flags.\n",
      "2021-12-01 14:19:47.420396: I tensorflow/stream_executor/cuda/cuda_gpu_executor.cc:941] successful NUMA node read from SysFS had negative value (-1), but there must be at least one NUMA node, so returning NUMA node zero\n",
      "2021-12-01 14:19:47.420531: I tensorflow/core/common_runtime/gpu/gpu_device.cc:1720] Found device 0 with properties: \n",
      "pciBusID: 0000:01:00.0 name: NVIDIA GeForce RTX 2060 computeCapability: 7.5\n",
      "coreClock: 1.2GHz coreCount: 30 deviceMemorySize: 5.79GiB deviceMemoryBandwidth: 312.97GiB/s\n",
      "2021-12-01 14:19:47.420552: I tensorflow/stream_executor/platform/default/dso_loader.cc:49] Successfully opened dynamic library libcudart.so.10.1\n",
      "2021-12-01 14:19:47.420566: I tensorflow/stream_executor/platform/default/dso_loader.cc:49] Successfully opened dynamic library libcublas.so.10\n",
      "2021-12-01 14:19:47.420577: I tensorflow/stream_executor/platform/default/dso_loader.cc:49] Successfully opened dynamic library libcublasLt.so.10\n",
      "2021-12-01 14:19:47.420588: I tensorflow/stream_executor/platform/default/dso_loader.cc:49] Successfully opened dynamic library libcufft.so.10\n",
      "2021-12-01 14:19:47.420599: I tensorflow/stream_executor/platform/default/dso_loader.cc:49] Successfully opened dynamic library libcurand.so.10\n",
      "2021-12-01 14:19:47.420611: I tensorflow/stream_executor/platform/default/dso_loader.cc:49] Successfully opened dynamic library libcusolver.so.10\n",
      "2021-12-01 14:19:47.420622: I tensorflow/stream_executor/platform/default/dso_loader.cc:49] Successfully opened dynamic library libcusparse.so.10\n",
      "2021-12-01 14:19:47.420634: I tensorflow/stream_executor/platform/default/dso_loader.cc:49] Successfully opened dynamic library libcudnn.so.7\n",
      "2021-12-01 14:19:47.420671: I tensorflow/stream_executor/cuda/cuda_gpu_executor.cc:941] successful NUMA node read from SysFS had negative value (-1), but there must be at least one NUMA node, so returning NUMA node zero\n",
      "2021-12-01 14:19:47.420819: I tensorflow/stream_executor/cuda/cuda_gpu_executor.cc:941] successful NUMA node read from SysFS had negative value (-1), but there must be at least one NUMA node, so returning NUMA node zero\n",
      "2021-12-01 14:19:47.420935: I tensorflow/core/common_runtime/gpu/gpu_device.cc:1862] Adding visible gpu devices: 0\n",
      "2021-12-01 14:19:47.420960: I tensorflow/stream_executor/platform/default/dso_loader.cc:49] Successfully opened dynamic library libcudart.so.10.1\n",
      "2021-12-01 14:19:47.826935: I tensorflow/core/common_runtime/gpu/gpu_device.cc:1261] Device interconnect StreamExecutor with strength 1 edge matrix:\n",
      "2021-12-01 14:19:47.826954: I tensorflow/core/common_runtime/gpu/gpu_device.cc:1267]      0 \n",
      "2021-12-01 14:19:47.826959: I tensorflow/core/common_runtime/gpu/gpu_device.cc:1280] 0:   N \n",
      "2021-12-01 14:19:47.827120: I tensorflow/stream_executor/cuda/cuda_gpu_executor.cc:941] successful NUMA node read from SysFS had negative value (-1), but there must be at least one NUMA node, so returning NUMA node zero\n",
      "2021-12-01 14:19:47.827291: I tensorflow/stream_executor/cuda/cuda_gpu_executor.cc:941] successful NUMA node read from SysFS had negative value (-1), but there must be at least one NUMA node, so returning NUMA node zero\n",
      "2021-12-01 14:19:47.827432: I tensorflow/stream_executor/cuda/cuda_gpu_executor.cc:941] successful NUMA node read from SysFS had negative value (-1), but there must be at least one NUMA node, so returning NUMA node zero\n",
      "2021-12-01 14:19:47.827551: I tensorflow/core/common_runtime/gpu/gpu_device.cc:1406] Created TensorFlow device (/job:localhost/replica:0/task:0/device:GPU:0 with 5063 MB memory) -> physical GPU (device: 0, name: NVIDIA GeForce RTX 2060, pci bus id: 0000:01:00.0, compute capability: 7.5)\n",
      "2021-12-01 14:19:47.827790: I tensorflow/compiler/jit/xla_gpu_device.cc:99] Not creating XLA devices, tf_xla_enable_xla_devices not set\n",
      "2021-12-01 14:19:47.934674: I tensorflow/compiler/mlir/mlir_graph_optimization_pass.cc:116] None of the MLIR optimization passes are enabled (registered 2)\n",
      "2021-12-01 14:19:47.934975: I tensorflow/core/platform/profile_utils/cpu_utils.cc:112] CPU Frequency: 2200660000 Hz\n"
     ]
    },
    {
     "name": "stdout",
     "output_type": "stream",
     "text": [
      "Epoch 1/5\n",
      "  1/300 [..............................] - ETA: 2:19 - loss: 0.6910 - acc: 0.5312"
     ]
    },
    {
     "name": "stderr",
     "output_type": "stream",
     "text": [
      "2021-12-01 14:19:48.250951: I tensorflow/stream_executor/platform/default/dso_loader.cc:49] Successfully opened dynamic library libcublas.so.10\n"
     ]
    },
    {
     "name": "stdout",
     "output_type": "stream",
     "text": [
      "300/300 [==============================] - 2s 5ms/step - loss: 0.5074 - acc: 0.7326 - val_loss: 0.3054 - val_acc: 0.8604\n",
      "Epoch 2/5\n",
      "300/300 [==============================] - 1s 3ms/step - loss: 0.2017 - acc: 0.9198 - val_loss: 0.2831 - val_acc: 0.8767\n",
      "Epoch 3/5\n",
      "300/300 [==============================] - 1s 3ms/step - loss: 0.0891 - acc: 0.9695 - val_loss: 0.3372 - val_acc: 0.8733\n",
      "Epoch 4/5\n",
      "300/300 [==============================] - 1s 3ms/step - loss: 0.0433 - acc: 0.9857 - val_loss: 0.4936 - val_acc: 0.8500\n",
      "Epoch 5/5\n",
      "300/300 [==============================] - 1s 3ms/step - loss: 0.0186 - acc: 0.9940 - val_loss: 0.6194 - val_acc: 0.8471\n",
      "Model: \"sequential\"\n",
      "_________________________________________________________________\n",
      "Layer (type)                 Output Shape              Param #   \n",
      "=================================================================\n",
      "embedding (Embedding)        (None, 100, 100)          1000000   \n",
      "_________________________________________________________________\n",
      "flatten (Flatten)            (None, 10000)             0         \n",
      "_________________________________________________________________\n",
      "dense (Dense)                (None, 32)                320032    \n",
      "_________________________________________________________________\n",
      "dense_1 (Dense)              (None, 1)                 33        \n",
      "=================================================================\n",
      "Total params: 1,320,065\n",
      "Trainable params: 1,320,065\n",
      "Non-trainable params: 0\n",
      "_________________________________________________________________\n"
     ]
    }
   ],
   "source": [
    "from approach import naive_embedding\n",
    "\n",
    "x = x_train + x_val\n",
    "y = y_train + y_val\n",
    "\n",
    "config = naive_embedding.Config(x, y, 100, 10000, 100)\n",
    "model, history = naive_embedding.train(config)\n",
    "model.summary()"
   ]
  },
  {
   "cell_type": "markdown",
   "id": "cca49eef-d95f-4055-842f-225903eda6d4",
   "metadata": {},
   "source": [
    "### Plotting accuracy"
   ]
  },
  {
   "cell_type": "code",
   "execution_count": 8,
   "id": "cfaaab42-9a6a-4c7c-883c-75ed0b509b22",
   "metadata": {},
   "outputs": [
    {
     "data": {
      "image/png": "[encoded data removed]",
      "text/plain": [
       "<Figure size 432x288 with 1 Axes>"
      ]
     },
     "metadata": {
      "needs_background": "light"
     },
     "output_type": "display_data"
    },
    {
     "data": {
      "image/png": "[encoded data removed]",
      "text/plain": [
       "<Figure size 432x288 with 1 Axes>"
      ]
     },
     "metadata": {
      "needs_background": "light"
     },
     "output_type": "display_data"
    }
   ],
   "source": [
    "from utils import plotting\n",
    "plotting.plot(history, 'Naive embedding d100')"
   ]
  },
  {
   "cell_type": "markdown",
   "id": "ec256bf3-ff59-470e-86ab-ee94bb7e4aef",
   "metadata": {},
   "source": [
    "### Evaluating approach"
   ]
  },
  {
   "cell_type": "code",
   "execution_count": 9,
   "id": "bfc6201b-66ae-46f0-95dc-edb53ad0cc06",
   "metadata": {},
   "outputs": [
    {
     "name": "stdout",
     "output_type": "stream",
     "text": [
      "94/94 [==============================] - 0s 2ms/step - loss: 0.6677 - acc: 0.8397\n",
      "Loss: 0.6676753163337708\n",
      "Accuracy: 83.97%\n"
     ]
    }
   ],
   "source": [
    "loss, acc = naive_embedding.evaluate_model(model, config, x_test, y_test)\n",
    "print(f'Loss: {loss}')\n",
    "print(f'Accuracy: {acc * 100:.2f}%')"
   ]
  },
  {
   "cell_type": "code",
   "execution_count": 10,
   "id": "d902c2e7-e66a-41ee-955c-8474bed31f64",
   "metadata": {},
   "outputs": [
    {
     "name": "stdout",
     "output_type": "stream",
     "text": [
      "Sample #100:\n",
      "Input: foarte slab foarte dezamagit bateria nu tine deloc si mai ales ca produsul chiar daca era impachetat ok are si o mica zgarietura pe partea lucioasa\n",
      "Expected output: 0\n",
      "Prediction: [0.51914626]\n"
     ]
    }
   ],
   "source": [
    "naive_embedding.predict_sample(model, config, x_test, y_test, 100)"
   ]
  },
  {
   "cell_type": "markdown",
   "id": "d32b14b6-e6ab-42f6-98ca-ef293b15c0ae",
   "metadata": {},
   "source": [
    "# Embedding layer approach - dimension: 1000"
   ]
  },
  {
   "cell_type": "code",
   "execution_count": 11,
   "id": "103b32c0-c85c-40e5-8c3b-52d2d8d14416",
   "metadata": {},
   "outputs": [
    {
     "name": "stdout",
     "output_type": "stream",
     "text": [
      "Found 21090 unique tokens.\n",
      "Shape of data tensor: (12000, 1000)\n",
      "Shape of label tensor: (12000,)\n",
      "Epoch 1/5\n",
      "300/300 [==============================] - 23s 77ms/step - loss: 3.2840 - acc: 0.6607 - val_loss: 0.2919 - val_acc: 0.8796\n",
      "Epoch 2/5\n",
      "300/300 [==============================] - 23s 77ms/step - loss: 0.2299 - acc: 0.9214 - val_loss: 0.2899 - val_acc: 0.8858\n",
      "Epoch 3/5\n",
      "300/300 [==============================] - 23s 77ms/step - loss: 0.1283 - acc: 0.9585 - val_loss: 0.3326 - val_acc: 0.8846\n",
      "Epoch 4/5\n",
      "300/300 [==============================] - 23s 77ms/step - loss: 0.0667 - acc: 0.9825 - val_loss: 0.3777 - val_acc: 0.8883\n",
      "Epoch 5/5\n",
      "300/300 [==============================] - 23s 78ms/step - loss: 0.0460 - acc: 0.9856 - val_loss: 0.5063 - val_acc: 0.8692\n",
      "Model: \"sequential_1\"\n",
      "_________________________________________________________________\n",
      "Layer (type)                 Output Shape              Param #   \n",
      "=================================================================\n",
      "embedding_1 (Embedding)      (None, 1000, 1000)        10000000  \n",
      "_________________________________________________________________\n",
      "flatten_1 (Flatten)          (None, 1000000)           0         \n",
      "_________________________________________________________________\n",
      "dense_2 (Dense)              (None, 32)                32000032  \n",
      "_________________________________________________________________\n",
      "dense_3 (Dense)              (None, 1)                 33        \n",
      "=================================================================\n",
      "Total params: 42,000,065\n",
      "Trainable params: 42,000,065\n",
      "Non-trainable params: 0\n",
      "_________________________________________________________________\n"
     ]
    }
   ],
   "source": [
    "from approach import naive_embedding\n",
    "\n",
    "x = x_train + x_val\n",
    "y = y_train + y_val\n",
    "\n",
    "config = naive_embedding.Config(x, y, 1000, 10000, 1000)\n",
    "model, history = naive_embedding.train(config)\n",
    "model.summary()"
   ]
  },
  {
   "cell_type": "markdown",
   "id": "222ba6eb-4d94-421d-a2b4-28bcf8b86ce3",
   "metadata": {},
   "source": [
    "### Plotting accuracy"
   ]
  },
  {
   "cell_type": "code",
   "execution_count": 12,
   "id": "b4fee001-6ff1-42a5-bbac-d52855a1fa88",
   "metadata": {},
   "outputs": [
    {
     "data": {
      "image/png": "[encoded data removed]",
      "text/plain": [
       "<Figure size 432x288 with 1 Axes>"
      ]
     },
     "metadata": {
      "needs_background": "light"
     },
     "output_type": "display_data"
    },
    {
     "data": {
      "image/png": "[encoded data removed]",
      "text/plain": [
       "<Figure size 432x288 with 1 Axes>"
      ]
     },
     "metadata": {
      "needs_background": "light"
     },
     "output_type": "display_data"
    }
   ],
   "source": [
    "from utils import plotting\n",
    "plotting.plot(history, 'Naive embedding d1000')"
   ]
  },
  {
   "cell_type": "markdown",
   "id": "807eba8f-b4a7-4f57-ae80-b4165ac87f74",
   "metadata": {},
   "source": [
    "### Evaluating the approach"
   ]
  },
  {
   "cell_type": "code",
   "execution_count": 13,
   "id": "17d72b6b-7eb8-4218-8fea-6efbdc004aeb",
   "metadata": {},
   "outputs": [
    {
     "name": "stdout",
     "output_type": "stream",
     "text": [
      "94/94 [==============================] - 3s 26ms/step - loss: 0.5179 - acc: 0.8647\n",
      "Loss: 0.5178500413894653\n",
      "Accuracy: 86.47%\n"
     ]
    }
   ],
   "source": [
    "loss, acc = naive_embedding.evaluate_model(model, config, x_test, y_test)\n",
    "print(f'Loss: {loss}')\n",
    "print(f'Accuracy: {acc * 100:.2f}%')"
   ]
  },
  {
   "cell_type": "code",
   "execution_count": 15,
   "id": "7eb6b22a-f602-4171-b852-5a81892dfbea",
   "metadata": {},
   "outputs": [
    {
     "name": "stdout",
     "output_type": "stream",
     "text": [
      "Sample #100:\n",
      "Input: foarte slab foarte dezamagit bateria nu tine deloc si mai ales ca produsul chiar daca era impachetat ok are si o mica zgarietura pe partea lucioasa\n",
      "Expected output: 0\n",
      "Prediction: [0.8432302]\n"
     ]
    }
   ],
   "source": [
    "naive_embedding.predict_sample(model, config, x_test, y_test, 100)"
   ]
  },
  {
   "cell_type": "code",
   "execution_count": null,
   "id": "57dd9314-874e-4739-8a8b-4db1b6f96e12",
   "metadata": {},
   "outputs": [],
   "source": []
  }
 ],
 "metadata": {
  "kernelspec": {
   "display_name": "Python 3 (ipykernel)",
   "language": "python",
   "name": "python3"
  },
  "language_info": {
   "codemirror_mode": {
    "name": "ipython",
    "version": 3
   },
   "file_extension": ".py",
   "mimetype": "text/x-python",
   "name": "python",
   "nbconvert_exporter": "python",
   "pygments_lexer": "ipython3",
   "version": "3.9.7"
  }
 },
 "nbformat": 4,
 "nbformat_minor": 5
}
