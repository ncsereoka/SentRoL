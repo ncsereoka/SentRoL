{
 "cells": [
  {
   "cell_type": "markdown",
   "id": "c34c8eb9-9f67-4354-a4f6-c29c1fca36a4",
   "metadata": {},
   "source": [
    "### Please run with Python 3.6 because of weird Numpy issue occurring when adding the LSTM layer!"
   ]
  },
  {
   "cell_type": "code",
   "execution_count": 1,
   "id": "97cfc79d-015f-48f7-9644-348d978141c3",
   "metadata": {},
   "outputs": [],
   "source": [
    "# Disable TensorFlow logging\n",
    "import os\n",
    "os.environ['TF_CPP_MIN_LOG_LEVEL'] = '3' "
   ]
  },
  {
   "cell_type": "markdown",
   "id": "9d0962a2-9906-4321-814c-da8138f1014f",
   "metadata": {},
   "source": [
    "# Data loading"
   ]
  },
  {
   "cell_type": "code",
   "execution_count": 2,
   "id": "03dd8416-c600-4d4b-b2cb-a9f3bc13f833",
   "metadata": {},
   "outputs": [],
   "source": [
    "from utils import jsonfile\n",
    "from utils import datautil\n",
    "    \n",
    "train_data = jsonfile.read('data/laroseda_train.json')['reviews']\n",
    "test_data = jsonfile.read('data/laroseda_test.json')['reviews']"
   ]
  },
  {
   "cell_type": "code",
   "execution_count": 3,
   "id": "008f6c1b-6bc5-465e-a54a-6e2b29f32eed",
   "metadata": {},
   "outputs": [
    {
     "name": "stdout",
     "output_type": "stream",
     "text": [
      "Reviews for train: 12000\n",
      "Reviews for test : 3000\n"
     ]
    }
   ],
   "source": [
    "print(f'Reviews for train: {len(train_data)}')\n",
    "print(f'Reviews for test : {len(test_data)}')"
   ]
  },
  {
   "cell_type": "markdown",
   "id": "80da511f-46a2-47ff-92f0-8f7fd76f18cc",
   "metadata": {},
   "source": [
    "# Data exploration"
   ]
  },
  {
   "cell_type": "code",
   "execution_count": 4,
   "id": "e648926e-975e-4236-ae14-c6bcd3317417",
   "metadata": {},
   "outputs": [
    {
     "name": "stdout",
     "output_type": "stream",
     "text": [
      "{'index': '11262', 'title': 'Foarte slab', 'content': 'ca aspect este foarte frumoasa dar cine vrea sa se joace cu tastatura nu poate', 'starRating': '1'}\n"
     ]
    }
   ],
   "source": [
    "print(train_data[0])"
   ]
  },
  {
   "cell_type": "code",
   "execution_count": 5,
   "id": "dd44cb59-49a6-423f-b69a-05d496a5f61f",
   "metadata": {},
   "outputs": [],
   "source": [
    "ratings = [0 for i in range(5)] \n",
    "for entry in train_data:\n",
    "    ratings[ord(entry['starRating']) - ord('1')] += 1"
   ]
  },
  {
   "cell_type": "code",
   "execution_count": 6,
   "id": "467009a7-2f7b-4aec-b3fe-53383ca34cd8",
   "metadata": {},
   "outputs": [
    {
     "data": {
      "image/png": "[encoded data removed]",
      "text/plain": [
       "<Figure size 432x288 with 1 Axes>"
      ]
     },
     "metadata": {
      "needs_background": "light"
     },
     "output_type": "display_data"
    }
   ],
   "source": [
    "import matplotlib.pyplot as plt\n",
    "\n",
    "x = ['1', '2', '3', '4', '5']\n",
    "plt.title('Number of reviews by star rating')\n",
    "plt.bar(x, ratings)\n",
    "plt.show()"
   ]
  },
  {
   "cell_type": "markdown",
   "id": "261c2850-04c2-4fe1-8eeb-c930951db116",
   "metadata": {
    "tags": []
   },
   "source": [
    "# Cleanup"
   ]
  },
  {
   "cell_type": "code",
   "execution_count": 7,
   "id": "3fd9f1f0-15a3-4196-a620-46a140e05d86",
   "metadata": {},
   "outputs": [],
   "source": [
    "x_train, y_train = datautil.clean(train_data)\n",
    "x_test, y_test = datautil.clean(test_data)"
   ]
  },
  {
   "cell_type": "markdown",
   "id": "5af6cb37-cf7e-42c0-befd-4868a336f69d",
   "metadata": {},
   "source": [
    "We'll assign the '0' label for negative reviews (with 1- or 2-star ratings) and '1' for the positive reviews (with 4- or 5-star ratings).\n",
    "\n",
    "We'll merge the title and the content to a common 'text' field which is cleaned."
   ]
  },
  {
   "cell_type": "markdown",
   "id": "c60aa62b-9a14-4518-9f40-541dc31f5306",
   "metadata": {},
   "source": [
    "# Post-cleanup"
   ]
  },
  {
   "cell_type": "code",
   "execution_count": 8,
   "id": "c1e59fb1-f7ae-445a-8077-de01be4c4e1b",
   "metadata": {},
   "outputs": [
    {
     "name": "stdout",
     "output_type": "stream",
     "text": [
      "foarte slab ca aspect este foarte frumoasa dar cine vrea sa se joace cu tastatura nu poate\n",
      "0\n"
     ]
    }
   ],
   "source": [
    "print(x_train[0])\n",
    "print(y_train[0])"
   ]
  },
  {
   "cell_type": "markdown",
   "id": "82964315-92ee-4a3e-8749-bae3a7910b94",
   "metadata": {},
   "source": [
    "# Tokenizer setup"
   ]
  },
  {
   "cell_type": "code",
   "execution_count": 9,
   "id": "0deb4bd9-b7bc-4566-8977-8283044cc789",
   "metadata": {},
   "outputs": [],
   "source": [
    "from tensorflow.keras.preprocessing.text import Tokenizer\n",
    "\n",
    "MAX_WORDS = 10000\n",
    "MAX_LEN = 32\n",
    "\n",
    "tokenizer = Tokenizer(num_words=MAX_WORDS)\n",
    "tokenizer.fit_on_texts(x_train)"
   ]
  },
  {
   "cell_type": "markdown",
   "id": "2b1935b0-1edc-44c6-beef-88d79240b77e",
   "metadata": {},
   "source": [
    "# Embedding layer with LSTM approach - dimension: 256"
   ]
  },
  {
   "cell_type": "code",
   "execution_count": 10,
   "id": "57dd9314-874e-4739-8a8b-4db1b6f96e12",
   "metadata": {},
   "outputs": [
    {
     "name": "stdout",
     "output_type": "stream",
     "text": [
      "Found 21090 unique tokens.\n",
      "Shape of x: (12000, 32)\n",
      "Shape of y: (12000,)\n",
      "WARNING:tensorflow:Layer lstm will not use cuDNN kernel since it doesn't meet the cuDNN kernel criteria. It will use generic GPU kernel as fallback when running on GPU\n",
      "WARNING:tensorflow:Layer lstm_1 will not use cuDNN kernel since it doesn't meet the cuDNN kernel criteria. It will use generic GPU kernel as fallback when running on GPU\n",
      "\n",
      "\n",
      "Preparing to train the following model:\n",
      "\n",
      "Model: \"sequential\"\n",
      "_________________________________________________________________\n",
      "Layer (type)                 Output Shape              Param #   \n",
      "=================================================================\n",
      "embedding (Embedding)        (None, 32, 256)           2560000   \n",
      "_________________________________________________________________\n",
      "dropout (Dropout)            (None, 32, 256)           0         \n",
      "_________________________________________________________________\n",
      "lstm (LSTM)                  (None, 32, 256)           525312    \n",
      "_________________________________________________________________\n",
      "lstm_1 (LSTM)                (None, 256)               525312    \n",
      "_________________________________________________________________\n",
      "dense (Dense)                (None, 1)                 257       \n",
      "=================================================================\n",
      "Total params: 3,610,881\n",
      "Trainable params: 3,610,881\n",
      "Non-trainable params: 0\n",
      "_________________________________________________________________\n",
      "None\n",
      "\n",
      "\n",
      "Training the model...\n",
      "\n",
      "Epoch 1/5\n",
      "300/300 [==============================] - 18s 61ms/step - loss: 0.4030 - acc: 0.8148 - val_loss: 0.3292 - val_acc: 0.8433\n",
      "Epoch 2/5\n",
      "300/300 [==============================] - 17s 56ms/step - loss: 0.2715 - acc: 0.8850 - val_loss: 0.3629 - val_acc: 0.8500\n",
      "Epoch 3/5\n",
      "300/300 [==============================] - 17s 56ms/step - loss: 0.2265 - acc: 0.9090 - val_loss: 0.3076 - val_acc: 0.8617\n",
      "Epoch 4/5\n",
      "300/300 [==============================] - 17s 57ms/step - loss: 0.1930 - acc: 0.9221 - val_loss: 0.2967 - val_acc: 0.8750\n",
      "Epoch 5/5\n",
      "300/300 [==============================] - 17s 58ms/step - loss: 0.1674 - acc: 0.9340 - val_loss: 0.3051 - val_acc: 0.8754\n"
     ]
    }
   ],
   "source": [
    "from approach import lstm_embedding\n",
    "\n",
    "config = lstm_embedding.Config(256, MAX_WORDS, MAX_LEN)\n",
    "model, history = lstm_embedding.train(config, tokenizer, x_train, y_train)"
   ]
  },
  {
   "cell_type": "code",
   "execution_count": 11,
   "id": "3ede9ab1-223e-41d4-b72e-44cb00a8c592",
   "metadata": {},
   "outputs": [
    {
     "data": {
      "image/png": "[encoded data removed]",
      "text/plain": [
       "<Figure size 1440x360 with 2 Axes>"
      ]
     },
     "metadata": {
      "needs_background": "light"
     },
     "output_type": "display_data"
    }
   ],
   "source": [
    "from approach import plotting\n",
    "plotting.plot(history, 'Embedding with LSTM d256')"
   ]
  },
  {
   "cell_type": "code",
   "execution_count": 12,
   "id": "4f997460-9600-4b78-bfbf-67101572ba3c",
   "metadata": {},
   "outputs": [
    {
     "name": "stdout",
     "output_type": "stream",
     "text": [
      "94/94 [==============================] - 1s 13ms/step - loss: 0.2873 - acc: 0.8800\n",
      "Loss: 0.2873203158378601\n",
      "Accuracy: 88.00%\n"
     ]
    }
   ],
   "source": [
    "loss, acc = lstm_embedding.evaluate_model(model, config, tokenizer, x_test, y_test)\n",
    "print(f'Loss: {loss}')\n",
    "print(f'Accuracy: {acc * 100:.2f}%')"
   ]
  },
  {
   "cell_type": "code",
   "execution_count": 13,
   "id": "456fcac5-3ad1-4c63-9397-181b6c37efdd",
   "metadata": {},
   "outputs": [
    {
     "name": "stdout",
     "output_type": "stream",
     "text": [
      "Sample #100:\n",
      "Input: foarte slab foarte dezamagit bateria nu tine deloc si mai ales ca produsul chiar daca era impachetat ok are si o mica zgarietura pe partea lucioasa\n",
      "Expected output: 0\n",
      "Prediction: [0.03270552]\n"
     ]
    }
   ],
   "source": [
    "lstm_embedding.predict_sample(model, config, tokenizer, x_test, y_test, 100)"
   ]
  },
  {
   "cell_type": "markdown",
   "id": "14eb4006-c746-4fac-b257-392b091d020d",
   "metadata": {},
   "source": [
    "# Simple Embedding layer approach - dimension: 128"
   ]
  },
  {
   "cell_type": "code",
   "execution_count": 14,
   "id": "53c71d23-b8b2-407c-8129-a1f6689c51ee",
   "metadata": {},
   "outputs": [
    {
     "name": "stdout",
     "output_type": "stream",
     "text": [
      "Found 21090 unique tokens.\n",
      "Shape of x: (12000, 32)\n",
      "Shape of y: (12000,)\n",
      "\n",
      "\n",
      "Preparing to train the following model:\n",
      "\n",
      "Model: \"sequential_1\"\n",
      "_________________________________________________________________\n",
      "Layer (type)                 Output Shape              Param #   \n",
      "=================================================================\n",
      "embedding_1 (Embedding)      (None, 32, 128)           1280000   \n",
      "_________________________________________________________________\n",
      "flatten (Flatten)            (None, 4096)              0         \n",
      "_________________________________________________________________\n",
      "dense_1 (Dense)              (None, 32)                131104    \n",
      "_________________________________________________________________\n",
      "dense_2 (Dense)              (None, 1)                 33        \n",
      "=================================================================\n",
      "Total params: 1,411,137\n",
      "Trainable params: 1,411,137\n",
      "Non-trainable params: 0\n",
      "_________________________________________________________________\n",
      "None\n",
      "\n",
      "\n",
      "Training the model...\n",
      "\n",
      "Epoch 1/5\n",
      "300/300 [==============================] - 1s 5ms/step - loss: 0.4102 - acc: 0.7960 - val_loss: 0.3372 - val_acc: 0.8400\n",
      "Epoch 2/5\n",
      "300/300 [==============================] - 1s 4ms/step - loss: 0.2207 - acc: 0.9102 - val_loss: 0.3390 - val_acc: 0.8492\n",
      "Epoch 3/5\n",
      "300/300 [==============================] - 1s 4ms/step - loss: 0.1060 - acc: 0.9635 - val_loss: 0.4297 - val_acc: 0.8367\n",
      "Epoch 4/5\n",
      "300/300 [==============================] - 1s 4ms/step - loss: 0.0403 - acc: 0.9871 - val_loss: 0.5372 - val_acc: 0.8363\n",
      "Epoch 5/5\n",
      "300/300 [==============================] - 1s 4ms/step - loss: 0.0192 - acc: 0.9946 - val_loss: 0.7572 - val_acc: 0.8100\n"
     ]
    }
   ],
   "source": [
    "from approach import simple_embedding\n",
    "\n",
    "config = simple_embedding.Config(128, MAX_WORDS, MAX_LEN)\n",
    "model, history = simple_embedding.train(config, tokenizer, x_train, y_train)"
   ]
  },
  {
   "cell_type": "code",
   "execution_count": 15,
   "id": "a0e828fb-b713-4e3a-9693-e39b191f1677",
   "metadata": {},
   "outputs": [
    {
     "data": {
      "image/png": "[encoded data removed]",
      "text/plain": [
       "<Figure size 1440x360 with 2 Axes>"
      ]
     },
     "metadata": {
      "needs_background": "light"
     },
     "output_type": "display_data"
    }
   ],
   "source": [
    "from approach import plotting\n",
    "plotting.plot(history, 'Simple embedding d128')"
   ]
  },
  {
   "cell_type": "markdown",
   "id": "ec256bf3-ff59-470e-86ab-ee94bb7e4aef",
   "metadata": {},
   "source": [
    "### Evaluating approach"
   ]
  },
  {
   "cell_type": "code",
   "execution_count": 16,
   "id": "bfc6201b-66ae-46f0-95dc-edb53ad0cc06",
   "metadata": {},
   "outputs": [
    {
     "name": "stdout",
     "output_type": "stream",
     "text": [
      "94/94 [==============================] - 0s 1ms/step - loss: 0.7535 - acc: 0.8160\n",
      "Loss: 0.7534985542297363\n",
      "Accuracy: 81.60%\n"
     ]
    }
   ],
   "source": [
    "loss, acc = simple_embedding.evaluate_model(model, config, tokenizer, x_test, y_test)\n",
    "print(f'Loss: {loss}')\n",
    "print(f'Accuracy: {acc * 100:.2f}%')"
   ]
  },
  {
   "cell_type": "code",
   "execution_count": 17,
   "id": "d902c2e7-e66a-41ee-955c-8474bed31f64",
   "metadata": {},
   "outputs": [
    {
     "name": "stdout",
     "output_type": "stream",
     "text": [
      "Sample #100:\n",
      "Input: foarte slab foarte dezamagit bateria nu tine deloc si mai ales ca produsul chiar daca era impachetat ok are si o mica zgarietura pe partea lucioasa\n",
      "Expected output: 0\n",
      "Prediction: [0.1333769]\n"
     ]
    }
   ],
   "source": [
    "simple_embedding.predict_sample(model, config, tokenizer, x_test, y_test, 100)"
   ]
  },
  {
   "cell_type": "markdown",
   "id": "d32b14b6-e6ab-42f6-98ca-ef293b15c0ae",
   "metadata": {},
   "source": [
    "# Simple Embedding layer approach - dimension: 256"
   ]
  },
  {
   "cell_type": "code",
   "execution_count": 18,
   "id": "103b32c0-c85c-40e5-8c3b-52d2d8d14416",
   "metadata": {},
   "outputs": [
    {
     "name": "stdout",
     "output_type": "stream",
     "text": [
      "Found 21090 unique tokens.\n",
      "Shape of x: (12000, 32)\n",
      "Shape of y: (12000,)\n",
      "\n",
      "\n",
      "Preparing to train the following model:\n",
      "\n",
      "Model: \"sequential_2\"\n",
      "_________________________________________________________________\n",
      "Layer (type)                 Output Shape              Param #   \n",
      "=================================================================\n",
      "embedding_2 (Embedding)      (None, 32, 256)           2560000   \n",
      "_________________________________________________________________\n",
      "flatten_1 (Flatten)          (None, 8192)              0         \n",
      "_________________________________________________________________\n",
      "dense_3 (Dense)              (None, 32)                262176    \n",
      "_________________________________________________________________\n",
      "dense_4 (Dense)              (None, 1)                 33        \n",
      "=================================================================\n",
      "Total params: 2,822,209\n",
      "Trainable params: 2,822,209\n",
      "Non-trainable params: 0\n",
      "_________________________________________________________________\n",
      "None\n",
      "\n",
      "\n",
      "Training the model...\n",
      "\n",
      "Epoch 1/5\n",
      "300/300 [==============================] - 2s 8ms/step - loss: 0.3898 - acc: 0.8115 - val_loss: 0.3400 - val_acc: 0.8433\n",
      "Epoch 2/5\n",
      "300/300 [==============================] - 2s 7ms/step - loss: 0.1801 - acc: 0.9272 - val_loss: 0.3940 - val_acc: 0.8346\n",
      "Epoch 3/5\n",
      "300/300 [==============================] - 2s 8ms/step - loss: 0.0598 - acc: 0.9796 - val_loss: 0.5464 - val_acc: 0.8188\n",
      "Epoch 4/5\n",
      "300/300 [==============================] - 2s 8ms/step - loss: 0.0228 - acc: 0.9925 - val_loss: 0.7001 - val_acc: 0.8208\n",
      "Epoch 5/5\n",
      "300/300 [==============================] - 2s 7ms/step - loss: 0.0127 - acc: 0.9955 - val_loss: 0.8817 - val_acc: 0.8058\n"
     ]
    }
   ],
   "source": [
    "from approach import simple_embedding\n",
    "\n",
    "config = simple_embedding.Config(256, MAX_WORDS, MAX_LEN)\n",
    "model, history = simple_embedding.train(config, tokenizer, x_train, y_train)"
   ]
  },
  {
   "cell_type": "code",
   "execution_count": 19,
   "id": "a2845819-2f99-42f2-831a-f4f677c09887",
   "metadata": {},
   "outputs": [
    {
     "data": {
      "image/png": "[encoded data removed]",
      "text/plain": [
       "<Figure size 1440x360 with 2 Axes>"
      ]
     },
     "metadata": {
      "needs_background": "light"
     },
     "output_type": "display_data"
    }
   ],
   "source": [
    "from approach import plotting\n",
    "plotting.plot(history, 'Simple embedding d256')"
   ]
  },
  {
   "cell_type": "markdown",
   "id": "807eba8f-b4a7-4f57-ae80-b4165ac87f74",
   "metadata": {},
   "source": [
    "### Evaluating the approach"
   ]
  },
  {
   "cell_type": "code",
   "execution_count": 20,
   "id": "17d72b6b-7eb8-4218-8fea-6efbdc004aeb",
   "metadata": {},
   "outputs": [
    {
     "name": "stdout",
     "output_type": "stream",
     "text": [
      "94/94 [==============================] - 0s 2ms/step - loss: 0.8346 - acc: 0.8177\n",
      "Loss: 0.8345584273338318\n",
      "Accuracy: 81.77%\n"
     ]
    }
   ],
   "source": [
    "loss, acc = simple_embedding.evaluate_model(model, config, tokenizer, x_test, y_test)\n",
    "print(f'Loss: {loss}')\n",
    "print(f'Accuracy: {acc * 100:.2f}%')"
   ]
  },
  {
   "cell_type": "code",
   "execution_count": 21,
   "id": "7eb6b22a-f602-4171-b852-5a81892dfbea",
   "metadata": {},
   "outputs": [
    {
     "name": "stdout",
     "output_type": "stream",
     "text": [
      "Sample #100:\n",
      "Input: foarte slab foarte dezamagit bateria nu tine deloc si mai ales ca produsul chiar daca era impachetat ok are si o mica zgarietura pe partea lucioasa\n",
      "Expected output: 0\n",
      "Prediction: [0.0327715]\n"
     ]
    }
   ],
   "source": [
    "simple_embedding.predict_sample(model, config, tokenizer, x_test, y_test, 100)"
   ]
  }
 ],
 "metadata": {
  "kernelspec": {
   "display_name": "Python 3",
   "language": "python",
   "name": "python3"
  },
  "language_info": {
   "codemirror_mode": {
    "name": "ipython",
    "version": 3
   },
   "file_extension": ".py",
   "mimetype": "text/x-python",
   "name": "python",
   "nbconvert_exporter": "python",
   "pygments_lexer": "ipython3",
   "version": "3.6.13"
  }
 },
 "nbformat": 4,
 "nbformat_minor": 5
}
