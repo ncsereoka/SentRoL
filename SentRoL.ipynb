{
 "cells": [
  {
   "cell_type": "code",
   "execution_count": 1,
   "id": "97cfc79d-015f-48f7-9644-348d978141c3",
   "metadata": {},
   "outputs": [],
   "source": [
    "# Disable TensorFlow logging\n",
    "import os\n",
    "os.environ['TF_CPP_MIN_LOG_LEVEL'] = '3' "
   ]
  },
  {
   "cell_type": "markdown",
   "id": "9d0962a2-9906-4321-814c-da8138f1014f",
   "metadata": {},
   "source": [
    "# Data loading"
   ]
  },
  {
   "cell_type": "code",
   "execution_count": 2,
   "id": "03dd8416-c600-4d4b-b2cb-a9f3bc13f833",
   "metadata": {},
   "outputs": [],
   "source": [
    "from utils import jsonfile\n",
    "from utils import datautil\n",
    "    \n",
    "train_data = jsonfile.read('data/laroseda_train.json')['reviews']\n",
    "test_data = jsonfile.read('data/laroseda_test.json')['reviews']"
   ]
  },
  {
   "cell_type": "code",
   "execution_count": 3,
   "id": "008f6c1b-6bc5-465e-a54a-6e2b29f32eed",
   "metadata": {},
   "outputs": [
    {
     "name": "stdout",
     "output_type": "stream",
     "text": [
      "Reviews for train: 12000\n",
      "Reviews for test : 3000\n"
     ]
    }
   ],
   "source": [
    "print(f'Reviews for train: {len(train_data)}')\n",
    "print(f'Reviews for test : {len(test_data)}')"
   ]
  },
  {
   "cell_type": "markdown",
   "id": "80da511f-46a2-47ff-92f0-8f7fd76f18cc",
   "metadata": {},
   "source": [
    "# Data exploration"
   ]
  },
  {
   "cell_type": "code",
   "execution_count": 4,
   "id": "e648926e-975e-4236-ae14-c6bcd3317417",
   "metadata": {},
   "outputs": [
    {
     "name": "stdout",
     "output_type": "stream",
     "text": [
      "{'index': '11262', 'title': 'Foarte slab', 'content': 'ca aspect este foarte frumoasa dar cine vrea sa se joace cu tastatura nu poate', 'starRating': '1'}\n"
     ]
    }
   ],
   "source": [
    "print(train_data[0])"
   ]
  },
  {
   "cell_type": "code",
   "execution_count": 5,
   "id": "dd44cb59-49a6-423f-b69a-05d496a5f61f",
   "metadata": {},
   "outputs": [],
   "source": [
    "ratings = [0 for i in range(5)] \n",
    "for entry in train_data:\n",
    "    ratings[ord(entry['starRating']) - ord('1')] += 1"
   ]
  },
  {
   "cell_type": "code",
   "execution_count": 6,
   "id": "467009a7-2f7b-4aec-b3fe-53383ca34cd8",
   "metadata": {},
   "outputs": [
    {
     "data": {
      "image/png": "[encoded data removed]",
      "text/plain": [
       "<Figure size 432x288 with 1 Axes>"
      ]
     },
     "metadata": {
      "needs_background": "light"
     },
     "output_type": "display_data"
    }
   ],
   "source": [
    "import matplotlib.pyplot as plt\n",
    "\n",
    "x = ['1', '2', '3', '4', '5']\n",
    "plt.title('Number of reviews by star rating')\n",
    "plt.bar(x, ratings)\n",
    "plt.show()"
   ]
  },
  {
   "cell_type": "markdown",
   "id": "261c2850-04c2-4fe1-8eeb-c930951db116",
   "metadata": {
    "tags": []
   },
   "source": [
    "# Cleanup"
   ]
  },
  {
   "cell_type": "code",
   "execution_count": 7,
   "id": "3fd9f1f0-15a3-4196-a620-46a140e05d86",
   "metadata": {},
   "outputs": [],
   "source": [
    "x_train, y_train = datautil.clean(train_data)\n",
    "x_test, y_test = datautil.clean(test_data)"
   ]
  },
  {
   "cell_type": "markdown",
   "id": "5af6cb37-cf7e-42c0-befd-4868a336f69d",
   "metadata": {},
   "source": [
    "We'll assign the '0' label for negative reviews (with 1- or 2-star ratings) and '1' for the positive reviews (with 4- or 5-star ratings).\n",
    "\n",
    "We'll merge the title and the content to a common 'text' field which is cleaned."
   ]
  },
  {
   "cell_type": "markdown",
   "id": "c60aa62b-9a14-4518-9f40-541dc31f5306",
   "metadata": {},
   "source": [
    "# Post-cleanup"
   ]
  },
  {
   "cell_type": "code",
   "execution_count": 8,
   "id": "c1e59fb1-f7ae-445a-8077-de01be4c4e1b",
   "metadata": {},
   "outputs": [
    {
     "name": "stdout",
     "output_type": "stream",
     "text": [
      "foarte slab ca aspect este foarte frumoasa dar cine vrea sa se joace cu tastatura nu poate\n",
      "0\n"
     ]
    }
   ],
   "source": [
    "print(x_train[0])\n",
    "print(y_train[0])"
   ]
  },
  {
   "cell_type": "markdown",
   "id": "82964315-92ee-4a3e-8749-bae3a7910b94",
   "metadata": {},
   "source": [
    "# Tokenizer setup"
   ]
  },
  {
   "cell_type": "code",
   "execution_count": 9,
   "id": "0deb4bd9-b7bc-4566-8977-8283044cc789",
   "metadata": {},
   "outputs": [],
   "source": [
    "from keras.preprocessing.text import Tokenizer\n",
    "\n",
    "MAX_WORDS = 10000\n",
    "MAX_LEN = 1000\n",
    "\n",
    "tokenizer = Tokenizer(num_words=MAX_WORDS)\n",
    "tokenizer.fit_on_texts(x_train)"
   ]
  },
  {
   "cell_type": "markdown",
   "id": "14eb4006-c746-4fac-b257-392b091d020d",
   "metadata": {},
   "source": [
    "# Simple Embedding layer approach - dimension: 128"
   ]
  },
  {
   "cell_type": "code",
   "execution_count": 10,
   "id": "53c71d23-b8b2-407c-8129-a1f6689c51ee",
   "metadata": {},
   "outputs": [
    {
     "name": "stdout",
     "output_type": "stream",
     "text": [
      "Found 21090 unique tokens.\n",
      "Shape of x: (12000, 1000)\n",
      "Shape of y: (12000,)\n",
      "\n",
      "\n",
      "Preparing to train the following model:\n",
      "\n",
      "Model: \"sequential\"\n",
      "_________________________________________________________________\n",
      "Layer (type)                 Output Shape              Param #   \n",
      "=================================================================\n",
      "embedding (Embedding)        (None, 1000, 128)         1280000   \n",
      "_________________________________________________________________\n",
      "flatten (Flatten)            (None, 128000)            0         \n",
      "_________________________________________________________________\n",
      "dense (Dense)                (None, 32)                4096032   \n",
      "_________________________________________________________________\n",
      "dense_1 (Dense)              (None, 1)                 33        \n",
      "=================================================================\n",
      "Total params: 5,376,065\n",
      "Trainable params: 5,376,065\n",
      "Non-trainable params: 0\n",
      "_________________________________________________________________\n",
      "None\n",
      "\n",
      "\n",
      "Training the model...\n",
      "\n",
      "Epoch 1/5\n",
      "300/300 [==============================] - 4s 11ms/step - loss: 0.8223 - acc: 0.6893 - val_loss: 0.3172 - val_acc: 0.8654\n",
      "Epoch 2/5\n",
      "300/300 [==============================] - 3s 10ms/step - loss: 0.2146 - acc: 0.9140 - val_loss: 0.3695 - val_acc: 0.8562\n",
      "Epoch 3/5\n",
      "300/300 [==============================] - 3s 10ms/step - loss: 0.1421 - acc: 0.9454 - val_loss: 0.4153 - val_acc: 0.8671\n",
      "Epoch 4/5\n",
      "300/300 [==============================] - 3s 10ms/step - loss: 0.0735 - acc: 0.9756 - val_loss: 0.3906 - val_acc: 0.8771\n",
      "Epoch 5/5\n",
      "300/300 [==============================] - 3s 10ms/step - loss: 0.0441 - acc: 0.9859 - val_loss: 0.5182 - val_acc: 0.8804\n"
     ]
    }
   ],
   "source": [
    "from approach import simple_embedding\n",
    "\n",
    "config = simple_embedding.Config(128, MAX_WORDS, MAX_LEN)\n",
    "model, history = simple_embedding.train(config, tokenizer, x_train, y_train)"
   ]
  },
  {
   "cell_type": "code",
   "execution_count": 11,
   "id": "a0e828fb-b713-4e3a-9693-e39b191f1677",
   "metadata": {},
   "outputs": [
    {
     "data": {
      "image/png": "[encoded data removed]",
      "text/plain": [
       "<Figure size 1440x360 with 2 Axes>"
      ]
     },
     "metadata": {
      "needs_background": "light"
     },
     "output_type": "display_data"
    }
   ],
   "source": [
    "from approach import plotting\n",
    "plotting.plot(history, 'Simple embedding d128')"
   ]
  },
  {
   "cell_type": "code",
   "execution_count": 12,
   "id": "cfaaab42-9a6a-4c7c-883c-75ed0b509b22",
   "metadata": {},
   "outputs": [
    {
     "ename": "ImportError",
     "evalue": "cannot import name 'plotting' from 'utils' (unknown location)",
     "output_type": "error",
     "traceback": [
      "\u001b[0;31m---------------------------------------------------------------------------\u001b[0m",
      "\u001b[0;31mImportError\u001b[0m                               Traceback (most recent call last)",
      "\u001b[0;32m/tmp/ipykernel_19810/354148600.py\u001b[0m in \u001b[0;36m<module>\u001b[0;34m\u001b[0m\n\u001b[0;32m----> 1\u001b[0;31m \u001b[0;32mfrom\u001b[0m \u001b[0mutils\u001b[0m \u001b[0;32mimport\u001b[0m \u001b[0mplotting\u001b[0m\u001b[0;34m\u001b[0m\u001b[0;34m\u001b[0m\u001b[0m\n\u001b[0m\u001b[1;32m      2\u001b[0m \u001b[0mplotting\u001b[0m\u001b[0;34m.\u001b[0m\u001b[0mplot\u001b[0m\u001b[0;34m(\u001b[0m\u001b[0mhistory\u001b[0m\u001b[0;34m,\u001b[0m \u001b[0;34m'Naive embedding d128'\u001b[0m\u001b[0;34m)\u001b[0m\u001b[0;34m\u001b[0m\u001b[0;34m\u001b[0m\u001b[0m\n",
      "\u001b[0;31mImportError\u001b[0m: cannot import name 'plotting' from 'utils' (unknown location)"
     ]
    }
   ],
   "source": [
    "from utils import plotting\n",
    "plotting.plot(history, 'Naive embedding d128')"
   ]
  },
  {
   "cell_type": "markdown",
   "id": "ec256bf3-ff59-470e-86ab-ee94bb7e4aef",
   "metadata": {},
   "source": [
    "### Evaluating approach"
   ]
  },
  {
   "cell_type": "code",
   "execution_count": 13,
   "id": "bfc6201b-66ae-46f0-95dc-edb53ad0cc06",
   "metadata": {},
   "outputs": [
    {
     "name": "stdout",
     "output_type": "stream",
     "text": [
      "94/94 [==============================] - 0s 5ms/step - loss: 0.4754 - acc: 0.8777\n",
      "Loss: 0.4754032492637634\n",
      "Accuracy: 87.77%\n"
     ]
    }
   ],
   "source": [
    "loss, acc = simple_embedding.evaluate_model(model, config, tokenizer, x_test, y_test)\n",
    "print(f'Loss: {loss}')\n",
    "print(f'Accuracy: {acc * 100:.2f}%')"
   ]
  },
  {
   "cell_type": "code",
   "execution_count": 14,
   "id": "d902c2e7-e66a-41ee-955c-8474bed31f64",
   "metadata": {},
   "outputs": [
    {
     "name": "stdout",
     "output_type": "stream",
     "text": [
      "Sample #100:\n",
      "Input: foarte slab foarte dezamagit bateria nu tine deloc si mai ales ca produsul chiar daca era impachetat ok are si o mica zgarietura pe partea lucioasa\n",
      "Expected output: 0\n",
      "Prediction: [0.13700956]\n"
     ]
    }
   ],
   "source": [
    "simple_embedding.predict_sample(model, config, tokenizer, x_test, y_test, 100)"
   ]
  },
  {
   "cell_type": "markdown",
   "id": "d32b14b6-e6ab-42f6-98ca-ef293b15c0ae",
   "metadata": {},
   "source": [
    "# Simple Embedding layer approach - dimension: 256"
   ]
  },
  {
   "cell_type": "code",
   "execution_count": 15,
   "id": "103b32c0-c85c-40e5-8c3b-52d2d8d14416",
   "metadata": {},
   "outputs": [
    {
     "name": "stdout",
     "output_type": "stream",
     "text": [
      "Found 21090 unique tokens.\n",
      "Shape of x: (12000, 1000)\n",
      "Shape of y: (12000,)\n",
      "\n",
      "\n",
      "Preparing to train the following model:\n",
      "\n",
      "Model: \"sequential_1\"\n",
      "_________________________________________________________________\n",
      "Layer (type)                 Output Shape              Param #   \n",
      "=================================================================\n",
      "embedding_1 (Embedding)      (None, 1000, 256)         2560000   \n",
      "_________________________________________________________________\n",
      "flatten_1 (Flatten)          (None, 256000)            0         \n",
      "_________________________________________________________________\n",
      "dense_2 (Dense)              (None, 32)                8192032   \n",
      "_________________________________________________________________\n",
      "dense_3 (Dense)              (None, 1)                 33        \n",
      "=================================================================\n",
      "Total params: 10,752,065\n",
      "Trainable params: 10,752,065\n",
      "Non-trainable params: 0\n",
      "_________________________________________________________________\n",
      "None\n",
      "\n",
      "\n",
      "Training the model...\n",
      "\n",
      "Epoch 1/5\n",
      "300/300 [==============================] - 6s 19ms/step - loss: 0.9735 - acc: 0.6533 - val_loss: 0.3348 - val_acc: 0.8546\n",
      "Epoch 2/5\n",
      "300/300 [==============================] - 5s 18ms/step - loss: 0.2701 - acc: 0.8878 - val_loss: 0.2938 - val_acc: 0.8775\n",
      "Epoch 3/5\n",
      "300/300 [==============================] - 6s 19ms/step - loss: 0.1970 - acc: 0.9282 - val_loss: 0.5336 - val_acc: 0.8104\n",
      "Epoch 4/5\n",
      "300/300 [==============================] - 6s 19ms/step - loss: 0.1588 - acc: 0.9384 - val_loss: 0.3150 - val_acc: 0.8854\n",
      "Epoch 5/5\n",
      "300/300 [==============================] - 6s 19ms/step - loss: 0.1158 - acc: 0.9585 - val_loss: 0.3744 - val_acc: 0.8867\n"
     ]
    }
   ],
   "source": [
    "from approach import simple_embedding\n",
    "\n",
    "config = simple_embedding.Config(256, MAX_WORDS, MAX_LEN)\n",
    "model, history = simple_embedding.train(config, tokenizer, x_train, y_train)"
   ]
  },
  {
   "cell_type": "code",
   "execution_count": 16,
   "id": "a2845819-2f99-42f2-831a-f4f677c09887",
   "metadata": {},
   "outputs": [
    {
     "data": {
      "image/png": "[encoded data removed]",
      "text/plain": [
       "<Figure size 1440x360 with 2 Axes>"
      ]
     },
     "metadata": {
      "needs_background": "light"
     },
     "output_type": "display_data"
    }
   ],
   "source": [
    "from approach import plotting\n",
    "plotting.plot(history, 'Simple embedding d256')"
   ]
  },
  {
   "cell_type": "code",
   "execution_count": null,
   "id": "b4fee001-6ff1-42a5-bbac-d52855a1fa88",
   "metadata": {},
   "outputs": [],
   "source": [
    "from utils import plotting\n",
    "plotting.plot(history, 'Naive embedding d256')"
   ]
  },
  {
   "cell_type": "markdown",
   "id": "807eba8f-b4a7-4f57-ae80-b4165ac87f74",
   "metadata": {},
   "source": [
    "### Evaluating the approach"
   ]
  },
  {
   "cell_type": "code",
   "execution_count": 17,
   "id": "17d72b6b-7eb8-4218-8fea-6efbdc004aeb",
   "metadata": {},
   "outputs": [
    {
     "name": "stdout",
     "output_type": "stream",
     "text": [
      "94/94 [==============================] - 1s 7ms/step - loss: 0.3521 - acc: 0.8903\n",
      "Loss: 0.35208120942115784\n",
      "Accuracy: 89.03%\n"
     ]
    }
   ],
   "source": [
    "loss, acc = simple_embedding.evaluate_model(model, config, tokenizer, x_test, y_test)\n",
    "print(f'Loss: {loss}')\n",
    "print(f'Accuracy: {acc * 100:.2f}%')"
   ]
  },
  {
   "cell_type": "code",
   "execution_count": 18,
   "id": "7eb6b22a-f602-4171-b852-5a81892dfbea",
   "metadata": {},
   "outputs": [
    {
     "name": "stdout",
     "output_type": "stream",
     "text": [
      "Sample #100:\n",
      "Input: foarte slab foarte dezamagit bateria nu tine deloc si mai ales ca produsul chiar daca era impachetat ok are si o mica zgarietura pe partea lucioasa\n",
      "Expected output: 0\n",
      "Prediction: [0.29575244]\n"
     ]
    }
   ],
   "source": [
    "simple_embedding.predict_sample(model, config, tokenizer, x_test, y_test, 100)"
   ]
  },
  {
   "cell_type": "code",
   "execution_count": null,
   "id": "57dd9314-874e-4739-8a8b-4db1b6f96e12",
   "metadata": {},
   "outputs": [],
   "source": []
  }
 ],
 "metadata": {
  "kernelspec": {
   "display_name": "Python 3 (ipykernel)",
   "language": "python",
   "name": "python3"
  },
  "language_info": {
   "codemirror_mode": {
    "name": "ipython",
    "version": 3
   },
   "file_extension": ".py",
   "mimetype": "text/x-python",
   "name": "python",
   "nbconvert_exporter": "python",
   "pygments_lexer": "ipython3",
   "version": "3.9.7"
  }
 },
 "nbformat": 4,
 "nbformat_minor": 5
}
